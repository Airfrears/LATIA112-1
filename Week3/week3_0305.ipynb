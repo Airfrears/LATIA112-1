{
  "nbformat": 4,
  "nbformat_minor": 0,
  "metadata": {
    "colab": {
      "provenance": []
    },
    "kernelspec": {
      "name": "python3",
      "display_name": "Python 3"
    },
    "language_info": {
      "name": "python"
    }
  },
  "cells": [
    {
      "cell_type": "code",
      "execution_count": 3,
      "metadata": {
        "id": "nrJeVAasiBPQ",
        "colab": {
          "base_uri": "https://localhost:8080/"
        },
        "outputId": "6110fa07-9412-4a12-a8d9-d2aadc88f03d"
      },
      "outputs": [
        {
          "output_type": "stream",
          "name": "stdout",
          "text": [
            "Mounted at /content/gdrive/\n",
            "-rw------- 1 root root 92484 Feb 27 06:22 '/content/gdrive/My Drive/112_2_LATIA/112_student.csv'\n"
          ]
        }
      ],
      "source": [
        "# from xxxx import yyyy 從xxxx函式庫中匯入yyyy模組\n",
        "# import xxxx 匯入xxxx模組\n",
        "# drive.mount 綁定雲端磁碟\n",
        "# os.chdir 變更目錄\n",
        "# ls -l 列出目錄下的檔案\n",
        "\n",
        "from google.colab import drive\n",
        "drive.mount('/content/gdrive/', force_remount=True)\n",
        "\n",
        "import os\n",
        "os.chdir(\"/content/gdrive/My Drive/112_2_LATIA/\") # 切換目錄\n",
        "!ls -l \"/content/gdrive/My Drive/112_2_LATIA/112_student.csv\" # 列出目錄下的檔案\n",
        "#!ls -l \"自行填寫正確的路徑\""
      ]
    },
    {
      "cell_type": "code",
      "source": [
        "import pandas as pd\n",
        "csv_file = './112_student.csv'\n",
        "df = pd.read_csv(csv_file)\n",
        "print(df.head(), '\\n')\n",
        "print('\\n', df.info(verbose=True, show_counts=True))\n",
        "print('\\n', df.isna().sum())\n",
        "\n",
        "print('\\n', df.describe(include='all'))"
      ],
      "metadata": {
        "id": "hth5CL3clOs2",
        "colab": {
          "base_uri": "https://localhost:8080/"
        },
        "outputId": "3afa6149-2c62-4a58-a722-16686b24e027"
      },
      "execution_count": 4,
      "outputs": [
        {
          "output_type": "stream",
          "name": "stdout",
          "text": [
            "   學年度  學校代碼    學校名稱 日間∕進修別   等級別    總計   男生計   女生計  一年級男  一年級女  ...  五年級男  \\\n",
            "0  112     1  國立政治大學    D 日  D 博士   921   517   404    86    69  ...    63   \n",
            "1  112     1  國立政治大學    D 日  M 碩士  4231  1835  2396   598   809  ...     2   \n",
            "2  112     1  國立政治大學    N 職  M 碩士  1903   938   965   262   304  ...    77   \n",
            "3  112     1  國立政治大學    D 日  B 學士  9763  3928  5835   906  1349  ...     0   \n",
            "4  112     2  國立清華大學    D 日  D 博士  1636  1131   505   206    93  ...   140   \n",
            "\n",
            "   五年級女  六年級男  六年級女  七年級男  七年級女  延修生男  延修生女    縣市名稱   體系別  \n",
            "0    52    68    37    66    50     0     0  30 臺北市  1 一般  \n",
            "1     1     1     0     0     0     0     0  30 臺北市  1 一般  \n",
            "2    57     0     0     0     0     0     0  30 臺北市  1 一般  \n",
            "3     0     0     0     0     0   316   499  30 臺北市  1 一般  \n",
            "4    60   110    50   115    56     0     0  18 新竹市  1 一般  \n",
            "\n",
            "[5 rows x 26 columns] \n",
            "\n",
            "<class 'pandas.core.frame.DataFrame'>\n",
            "RangeIndex: 764 entries, 0 to 763\n",
            "Data columns (total 26 columns):\n",
            " #   Column  Non-Null Count  Dtype \n",
            "---  ------  --------------  ----- \n",
            " 0   學年度     764 non-null    int64 \n",
            " 1   學校代碼    764 non-null    int64 \n",
            " 2   學校名稱    764 non-null    object\n",
            " 3   日間∕進修別  764 non-null    object\n",
            " 4   等級別     764 non-null    object\n",
            " 5   總計      764 non-null    int64 \n",
            " 6   男生計     764 non-null    int64 \n",
            " 7   女生計     764 non-null    int64 \n",
            " 8   一年級男    764 non-null    int64 \n",
            " 9   一年級女    764 non-null    int64 \n",
            " 10  二年級男    764 non-null    int64 \n",
            " 11  二年級女    764 non-null    int64 \n",
            " 12  三年級男    764 non-null    int64 \n",
            " 13  三年級女    764 non-null    int64 \n",
            " 14  四年級男    764 non-null    int64 \n",
            " 15  四年級女    764 non-null    int64 \n",
            " 16  五年級男    764 non-null    int64 \n",
            " 17  五年級女    764 non-null    int64 \n",
            " 18  六年級男    764 non-null    int64 \n",
            " 19  六年級女    764 non-null    int64 \n",
            " 20  七年級男    764 non-null    int64 \n",
            " 21  七年級女    764 non-null    int64 \n",
            " 22  延修生男    764 non-null    int64 \n",
            " 23  延修生女    764 non-null    int64 \n",
            " 24  縣市名稱    764 non-null    object\n",
            " 25  體系別     764 non-null    object\n",
            "dtypes: int64(21), object(5)\n",
            "memory usage: 155.3+ KB\n",
            "\n",
            " None\n",
            "\n",
            " 學年度       0\n",
            "學校代碼      0\n",
            "學校名稱      0\n",
            "日間∕進修別    0\n",
            "等級別       0\n",
            "總計        0\n",
            "男生計       0\n",
            "女生計       0\n",
            "一年級男      0\n",
            "一年級女      0\n",
            "二年級男      0\n",
            "二年級女      0\n",
            "三年級男      0\n",
            "三年級女      0\n",
            "四年級男      0\n",
            "四年級女      0\n",
            "五年級男      0\n",
            "五年級女      0\n",
            "六年級男      0\n",
            "六年級女      0\n",
            "七年級男      0\n",
            "七年級女      0\n",
            "延修生男      0\n",
            "延修生女      0\n",
            "縣市名稱      0\n",
            "體系別       0\n",
            "dtype: int64\n",
            "\n",
            "           學年度         學校代碼    學校名稱 日間∕進修別   等級別            總計           男生計  \\\n",
            "count   764.0   764.000000     764    764   764    764.000000    764.000000   \n",
            "unique    NaN          NaN     145      4    10           NaN           NaN   \n",
            "top       NaN          NaN  弘光科技大學    D 日  M 碩士           NaN           NaN   \n",
            "freq      NaN          NaN      10    448   249           NaN           NaN   \n",
            "mean    112.0   756.200262     NaN    NaN   NaN   1433.022251    708.655759   \n",
            "std       0.0   504.152506     NaN    NaN   NaN   2633.932756   1385.170171   \n",
            "min     112.0     1.000000     NaN    NaN   NaN      1.000000      0.000000   \n",
            "25%     112.0    48.000000     NaN    NaN   NaN    103.750000     43.750000   \n",
            "50%     112.0  1029.000000     NaN    NaN   NaN    373.500000    180.000000   \n",
            "75%     112.0  1060.000000     NaN    NaN   NaN   1387.500000    590.500000   \n",
            "max     112.0  3002.000000     NaN    NaN   NaN  19466.000000  10885.000000   \n",
            "\n",
            "                 女生計         一年級男         一年級女  ...        五年級男        五年級女  \\\n",
            "count     764.000000   764.000000   764.000000  ...  764.000000  764.000000   \n",
            "unique           NaN          NaN          NaN  ...         NaN         NaN   \n",
            "top              NaN          NaN          NaN  ...         NaN         NaN   \n",
            "freq             NaN          NaN          NaN  ...         NaN         NaN   \n",
            "mean      724.366492   177.971204   173.545812  ...   11.871728   20.469895   \n",
            "std      1348.848241   349.047086   321.080379  ...   32.233288   81.117153   \n",
            "min         0.000000     0.000000     0.000000  ...    0.000000    0.000000   \n",
            "25%        50.000000     5.000000     4.000000  ...    0.000000    0.000000   \n",
            "50%       166.000000    41.000000    37.000000  ...    0.000000    0.000000   \n",
            "75%       718.500000   161.250000   188.250000  ...    6.000000    6.000000   \n",
            "max     10716.000000  2709.000000  2519.000000  ...  309.000000  897.000000   \n",
            "\n",
            "              六年級男        六年級女        七年級男        七年級女         延修生男  \\\n",
            "count   764.000000  764.000000  764.000000  764.000000   764.000000   \n",
            "unique         NaN         NaN         NaN         NaN          NaN   \n",
            "top            NaN         NaN         NaN         NaN          NaN   \n",
            "freq           NaN         NaN         NaN         NaN          NaN   \n",
            "mean      4.810209    3.615183    2.955497    1.742147    36.647906   \n",
            "std      19.818557   13.204157   17.768959    8.937397    98.370926   \n",
            "min       0.000000    0.000000    0.000000    0.000000     0.000000   \n",
            "25%       0.000000    0.000000    0.000000    0.000000     0.000000   \n",
            "50%       0.000000    0.000000    0.000000    0.000000     0.000000   \n",
            "75%       0.000000    0.000000    0.000000    0.000000    21.000000   \n",
            "max     179.000000  125.000000  312.000000  132.000000  1448.000000   \n",
            "\n",
            "               延修生女    縣市名稱   體系別  \n",
            "count    764.000000     764   764  \n",
            "unique          NaN      24     3  \n",
            "top             NaN  30 臺北市  2 技職  \n",
            "freq            NaN     120   468  \n",
            "mean      27.591623     NaN   NaN  \n",
            "std       74.731977     NaN   NaN  \n",
            "min        0.000000     NaN   NaN  \n",
            "25%        0.000000     NaN   NaN  \n",
            "50%        0.000000     NaN   NaN  \n",
            "75%       18.250000     NaN   NaN  \n",
            "max     1107.000000     NaN   NaN  \n",
            "\n",
            "[11 rows x 26 columns]\n"
          ]
        }
      ]
    },
    {
      "cell_type": "code",
      "source": [
        "import numpy as np\n",
        "np.set_printoptions(precision=None, threshold=None, edgeitems=None, linewidth=None, suppress=None, nanstr=None, infstr=None, formatter=None, sign=None, floatmode=None)  # reset print options\n",
        "np.set_printoptions(linewidth=np.inf, threshold=np.inf)\n",
        "print(df.iloc[0:100,])"
      ],
      "metadata": {
        "colab": {
          "base_uri": "https://localhost:8080/"
        },
        "id": "zBp9i-QeZmeG",
        "outputId": "0f1ce455-3646-40eb-e6a4-587d1149b557"
      },
      "execution_count": 23,
      "outputs": [
        {
          "output_type": "stream",
          "name": "stdout",
          "text": [
            "    學年度  學校代碼      學校名稱 日間∕進修別   等級別    總計   男生計   女生計  一年級男  一年級女  ...  六年級男  \\\n",
            "0   112     1    國立政治大學    D 日  D 博士   921   517   404    86    69  ...    68   \n",
            "1   112     1    國立政治大學    D 日  M 碩士  4231  1835  2396   598   809  ...     1   \n",
            "2   112     1    國立政治大學    N 職  M 碩士  1903   938   965   262   304  ...     0   \n",
            "3   112     1    國立政治大學    D 日  B 學士  9763  3928  5835   906  1349  ...     0   \n",
            "4   112     2    國立清華大學    D 日  D 博士  1636  1131   505   206    93  ...   110   \n",
            "..  ...   ...       ...    ...   ...   ...   ...   ...   ...   ...  ...   ...   \n",
            "95  112    25  國立臺北科技大學    D 日  M 碩士  3558  2535  1023  1060   402  ...     0   \n",
            "96  112    25  國立臺北科技大學    N 職  M 碩士  1604  1110   494   339   172  ...    34   \n",
            "97  112    25  國立臺北科技大學    D 日  B 四技  6371  4444  1927  1079   499  ...     0   \n",
            "98  112    25  國立臺北科技大學    N 修  B 四技  1197   984   213   161    38  ...     0   \n",
            "99  112    25  國立臺北科技大學    D 日  C 二技    22    13     9     0     0  ...     0   \n",
            "\n",
            "    六年級女  七年級男  七年級女  延修生男  延修生女    縣市名稱   體系別  公私立  縣市名  \n",
            "0     37    66    50     0     0  30 臺北市  1 一般   國立  臺北市  \n",
            "1      0     0     0     0     0  30 臺北市  1 一般   國立  臺北市  \n",
            "2      0     0     0     0     0  30 臺北市  1 一般   國立  臺北市  \n",
            "3      0     0     0   316   499  30 臺北市  1 一般   國立  臺北市  \n",
            "4     50   115    56     0     0  18 新竹市  1 一般   國立  新竹市  \n",
            "..   ...   ...   ...   ...   ...     ...   ...  ...  ...  \n",
            "95     0     0     0     0     0  30 臺北市  2 技職   國立  臺北市  \n",
            "96    11     2     0     0     0  30 臺北市  2 技職   國立  臺北市  \n",
            "97     0     0     0   181    89  30 臺北市  2 技職   國立  臺北市  \n",
            "98     0     0     0    54    14  30 臺北市  2 技職   國立  臺北市  \n",
            "99     0     0     0     5     2  30 臺北市  2 技職   國立  臺北市  \n",
            "\n",
            "[100 rows x 28 columns]\n"
          ]
        }
      ]
    },
    {
      "cell_type": "markdown",
      "source": [
        "# 1.哪間大專院校有最多的博士生\n",
        "\n",
        "step1: 取出想要查看的欄位，並印出此資料集共有多少筆紀錄 (len)\n",
        "\n",
        "step2: 篩選等級別為\"D 博士\"的DataFrame，並印出有招生博士學制的學校數量\n",
        "\n",
        "step3: 依據\"總計\"從大到小排序並印出結果 (sort_values, by, ascending)"
      ],
      "metadata": {
        "id": "bX5p1tgOSu1i"
      }
    },
    {
      "cell_type": "code",
      "source": [
        "df1 = df[['學年度', '學校代碼', '學校名稱', '等級別', '總計', '男生計', '女生計']] # 取出想要觀看的欄位\n",
        "print(\"本資料集共有\", len(df1), \"筆紀錄\")\n",
        "df1_1 = df1[df1['等級別'] == 'D 博士']\n",
        "print(\"有招生博士學制的學校數量為\", len(df1_1), \"\\n\")\n",
        "df1_1_sorted = df1_1.sort_values(by='總計', ascending=False)\n",
        "print(\"112學年度在籍的博士生最多人數第1名為\", df1_1_sorted.head(1)[\"學校名稱\"].values)"
      ],
      "metadata": {
        "colab": {
          "base_uri": "https://localhost:8080/"
        },
        "id": "D9AfvfU-Szu7",
        "outputId": "2b2ceec5-8e3c-448f-a464-54d7d4b8d064"
      },
      "execution_count": 6,
      "outputs": [
        {
          "output_type": "stream",
          "name": "stdout",
          "text": [
            "本資料集共有 764 筆紀錄\n",
            "有招生博士學制的學校數量為 84 \n",
            "\n",
            "112學年度在籍的博士生最多人數第1名為 ['國立臺灣大學']\n"
          ]
        }
      ]
    },
    {
      "cell_type": "markdown",
      "source": [
        "# 2. 國立？所；私立？所\n",
        "\n",
        "step1: 建立空字串 (lsit=[])\n",
        "\n",
        "step2: 建立for迴圈，配合if else條件，取出國立與私立\n",
        "\n",
        "step3: 新增「公私立」column在DataFrame中 (df['公私立'])\n",
        "\n",
        "step4: 篩選掉重複的學校代碼資料 (drop_duplicates)\n",
        "\n",
        "step5: 計算公立與私立學校的筆數，並印出結果 (value_counts"
      ],
      "metadata": {
        "id": "IzqRi2WyRZFh"
      }
    },
    {
      "cell_type": "code",
      "source": [
        "type_list = []\n",
        "for i in df['學校名稱']:\n",
        "    if ('國立' in i) or ('市立' in i):\n",
        "        type_list.append('國立')\n",
        "    else:\n",
        "        type_list.append('私立')\n",
        "df['公私立'] = type_list\n",
        "df2 = df.drop_duplicates('學校代碼')\n",
        "count = df2['公私立'].value_counts()\n",
        "print(f\"本資料集共收集了 {len(df2)} 所學校，其中公立：{count['國立']} 所；私立：{count['私立']} 所。\")"
      ],
      "metadata": {
        "colab": {
          "base_uri": "https://localhost:8080/"
        },
        "id": "eMbiigpnRbdl",
        "outputId": "27614900-6a60-4626-ed2b-9731e0416c29"
      },
      "execution_count": 24,
      "outputs": [
        {
          "output_type": "stream",
          "name": "stdout",
          "text": [
            "本資料集共收集了 145 所學校，其中公立：47 所；私立：98 所。\n"
          ]
        }
      ]
    },
    {
      "cell_type": "markdown",
      "source": [
        "# 3. 各等級別學制共有？所\n",
        "\n",
        "step1: 篩選掉重複的學校名稱與等級別 (drop_duplicates, subset)\n",
        "\n",
        "step2: 計算出等級別的筆數 (value_counts)\n",
        "\n",
        "step3: 建立等級別的字串，並找出其類別 (unique)\n",
        "\n",
        "step4: 使用for迴圈，依序列出所有等級別學制的學校數量 (count)"
      ],
      "metadata": {
        "id": "Fg_f-NzNSKiU"
      }
    },
    {
      "cell_type": "code",
      "source": [
        "df3 = df.drop_duplicates(subset=['學校名稱', '等級別'])\n",
        "count = df3['等級別'].value_counts()\n",
        "degree_list = list(df['等級別'].unique())\n",
        "print(f\"本資料集總共收集了 {len(set(df['學校代碼']))} 所學校，各等級學制當中：\")\n",
        "for degree in degree_list:\n",
        "    print(f\"一共有{count[degree]} 所學校， 有招收{degree[2:]}。\")"
      ],
      "metadata": {
        "colab": {
          "base_uri": "https://localhost:8080/"
        },
        "id": "FuhQKQqRSLOc",
        "outputId": "b6b1eceb-4829-4a09-a9c6-33f0cbc9b9b1"
      },
      "execution_count": 8,
      "outputs": [
        {
          "output_type": "stream",
          "name": "stdout",
          "text": [
            "本資料集總共收集了 145 所學校，各等級學制當中：\n",
            "一共有84 所學校， 有招收博士。\n",
            "一共有130 所學校， 有招收碩士。\n",
            "一共有67 所學校， 有招收學士。\n",
            "一共有1 所學校， 有招收4+X。\n",
            "一共有71 所學校， 有招收二技。\n",
            "一共有66 所學校， 有招收四技。\n",
            "一共有46 所學校， 有招收五專。\n",
            "一共有2 所學校， 有招收七年。\n",
            "一共有46 所學校， 有招收二專。\n",
            "一共有1 所學校， 有招收二年制。\n"
          ]
        }
      ]
    },
    {
      "cell_type": "markdown",
      "source": [
        "# 4. 各縣市分別有多少所學校，位於台北市的大專院校總共有幾所"
      ],
      "metadata": {
        "id": "wKevo1U1TOn2"
      }
    },
    {
      "cell_type": "code",
      "source": [
        "city_list = []\n",
        "for i in df['縣市名稱']:\n",
        "   city_list.append(i[3:])\n",
        "df['縣市名'] = city_list\n",
        "df4 = df.drop_duplicates('學校代碼')\n",
        "count = df4['縣市名'].value_counts()\n",
        "city_list = df4['縣市名'].unique()\n",
        "print(f\"本資料集共收集了 {len(df4)} 學校，其中：\")\n",
        "for city in city_list:\n",
        "    print(f\"{city}有 {count[city]} 所\")\n",
        "newtaipei = df4[df4['縣市名'] == '臺北市']\n",
        "print('\\n')\n",
        "print(newtaipei['縣市名'].value_counts())"
      ],
      "metadata": {
        "colab": {
          "base_uri": "https://localhost:8080/"
        },
        "id": "kTfp6k2ATPPI",
        "outputId": "ada230aa-acb1-421b-b540-ad88c546fa6a"
      },
      "execution_count": 15,
      "outputs": [
        {
          "output_type": "stream",
          "name": "stdout",
          "text": [
            "本資料集共收集了 145 學校，其中：\n",
            "臺北市有 24 所\n",
            "新竹市有 5 所\n",
            "臺南市有 13 所\n",
            "臺中市有 17 所\n",
            "桃園市有 12 所\n",
            "高雄市有 15 所\n",
            "基隆市有 3 所\n",
            "嘉義縣有 4 所\n",
            "彰化縣有 4 所\n",
            "新北市有 20 所\n",
            "嘉義市有 2 所\n",
            "花蓮縣有 4 所\n",
            "南投縣有 2 所\n",
            "雲林縣有 3 所\n",
            "屏東縣有 5 所\n",
            "臺東縣有 2 所\n",
            "宜蘭縣有 3 所\n",
            "苗栗縣有 3 所\n",
            "澎湖縣有 1 所\n",
            "金門縣有 1 所\n",
            "新竹縣有 2 所\n",
            "\n",
            "\n",
            "臺北市    24\n",
            "Name: 縣市名, dtype: int64\n"
          ]
        }
      ]
    },
    {
      "cell_type": "markdown",
      "source": [
        "# 5. 各體系別分別有多少所學校？"
      ],
      "metadata": {
        "id": "7WkoovplBeaz"
      }
    },
    {
      "cell_type": "code",
      "source": [
        "df6 = df.drop_duplicates('學校代碼')\n",
        "count = df6['體系別'].value_counts()\n",
        "print(f\"共有 {len(df6)} 所學校，技職 {count['2 技職']} 所；一般 {count['1 一般']} 所；師範 {count['3 師範']} 所。\")"
      ],
      "metadata": {
        "colab": {
          "base_uri": "https://localhost:8080/"
        },
        "id": "JKMhMFVMBiBF",
        "outputId": "ee2fd2ed-80f0-4fe3-9c90-931c021773a3"
      },
      "execution_count": 21,
      "outputs": [
        {
          "output_type": "stream",
          "name": "stdout",
          "text": [
            "共有 145 所學校，技職 78 所；一般 62 所；師範 5 所。\n"
          ]
        }
      ]
    },
    {
      "cell_type": "markdown",
      "source": [
        " # 6. 每校平均最多與最少人的體系？"
      ],
      "metadata": {
        "id": "zWIyQ01LXGo_"
      }
    },
    {
      "cell_type": "code",
      "source": [
        "df8 = df.drop_duplicates('學校代碼')\n",
        "system_count = df8['體系別'].value_counts()\n",
        "system_list = list(df['體系別'].unique())\n",
        "count_student = 0\n",
        "result_dict = {}\n",
        "for system in system_list:\n",
        "    for i in range(len(df)):\n",
        "        if df.loc[i,'體系別'] == system:\n",
        "            count_student += int(df.loc[i, '總計'])\n",
        "    result_dict[system[2:]] = count_student/system_count[system]\n",
        "    count_student = 0\n",
        "max_value = max(result_dict.values())\n",
        "min_value = min(result_dict.values())\n",
        "max_key = next(key for key, value in result_dict.items() if value == max_value)\n",
        "min_key = next(key for key, value in result_dict.items() if value == min_value)\n",
        "print(f\"每校平均最多人是 {max_key}，平均每校 {round(max_value,2)} 人；\")\n",
        "print(f\"每校平均最少人是 {min_key}，平均每校 {round(min_value,2)} 人。\")"
      ],
      "metadata": {
        "colab": {
          "base_uri": "https://localhost:8080/"
        },
        "id": "uSHT2gbiXIW8",
        "outputId": "6f487317-cd2f-45c3-e98e-5c27390f99a6"
      },
      "execution_count": 22,
      "outputs": [
        {
          "output_type": "stream",
          "name": "stdout",
          "text": [
            "每校平均最多人是 一般，平均每校 9224.89 人；\n",
            "每校平均最少人是 技職，平均每校 6143.56 人。\n"
          ]
        }
      ]
    }
  ]
}