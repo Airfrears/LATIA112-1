{
  "nbformat": 4,
  "nbformat_minor": 0,
  "metadata": {
    "colab": {
      "provenance": []
    },
    "kernelspec": {
      "name": "python3",
      "display_name": "Python 3"
    },
    "language_info": {
      "name": "python"
    }
  },
  "cells": [
    {
      "cell_type": "code",
      "execution_count": 11,
      "metadata": {
        "id": "nrJeVAasiBPQ",
        "colab": {
          "base_uri": "https://localhost:8080/"
        },
        "outputId": "99d2eb24-db62-48a5-c81b-9093ef4866bd"
      },
      "outputs": [
        {
          "output_type": "stream",
          "name": "stdout",
          "text": [
            "Mounted at /content/gdrive/\n",
            "-rw------- 1 root root 92484 Feb 27 06:22 '/content/gdrive/My Drive/112_2_LATIA/112_student.csv'\n"
          ]
        }
      ],
      "source": [
        "# from xxxx import yyyy 從xxxx函式庫中匯入yyyy模組\n",
        "# import xxxx 匯入xxxx模組\n",
        "# drive.mount 綁定雲端磁碟\n",
        "# os.chdir 變更目錄\n",
        "# ls -l 列出目錄下的檔案\n",
        "\n",
        "from google.colab import drive\n",
        "drive.mount('/content/gdrive/', force_remount=True)\n",
        "\n",
        "import os\n",
        "os.chdir(\"/content/gdrive/My Drive/112_2_LATIA/\") # 切換目錄\n",
        "!ls -l \"/content/gdrive/My Drive/112_2_LATIA/112_student.csv\" # 列出目錄下的檔案\n",
        "#!ls -l \"自行填寫正確的路徑\""
      ]
    },
    {
      "cell_type": "code",
      "source": [
        "import pandas as pd\n",
        "csv_file = './112_student.csv'\n",
        "df = pd.read_csv(csv_file)\n",
        "print(df.head(), '\\n')\n",
        "print('\\n', df.info(verbose=True, show_counts=True))\n",
        "print('\\n', df.isna().sum())\n",
        "\n",
        "print('\\n', df.describe(include='all'))"
      ],
      "metadata": {
        "id": "hth5CL3clOs2",
        "colab": {
          "base_uri": "https://localhost:8080/"
        },
        "outputId": "6d923c9d-3c30-43fe-f843-00374e66105d"
      },
      "execution_count": 12,
      "outputs": [
        {
          "output_type": "stream",
          "name": "stdout",
          "text": [
            "   學年度  學校代碼    學校名稱 日間∕進修別   等級別    總計   男生計   女生計  一年級男  一年級女  ...  五年級男  \\\n",
            "0  112     1  國立政治大學    D 日  D 博士   921   517   404    86    69  ...    63   \n",
            "1  112     1  國立政治大學    D 日  M 碩士  4231  1835  2396   598   809  ...     2   \n",
            "2  112     1  國立政治大學    N 職  M 碩士  1903   938   965   262   304  ...    77   \n",
            "3  112     1  國立政治大學    D 日  B 學士  9763  3928  5835   906  1349  ...     0   \n",
            "4  112     2  國立清華大學    D 日  D 博士  1636  1131   505   206    93  ...   140   \n",
            "\n",
            "   五年級女  六年級男  六年級女  七年級男  七年級女  延修生男  延修生女    縣市名稱   體系別  \n",
            "0    52    68    37    66    50     0     0  30 臺北市  1 一般  \n",
            "1     1     1     0     0     0     0     0  30 臺北市  1 一般  \n",
            "2    57     0     0     0     0     0     0  30 臺北市  1 一般  \n",
            "3     0     0     0     0     0   316   499  30 臺北市  1 一般  \n",
            "4    60   110    50   115    56     0     0  18 新竹市  1 一般  \n",
            "\n",
            "[5 rows x 26 columns] \n",
            "\n",
            "<class 'pandas.core.frame.DataFrame'>\n",
            "RangeIndex: 764 entries, 0 to 763\n",
            "Data columns (total 26 columns):\n",
            " #   Column  Non-Null Count  Dtype \n",
            "---  ------  --------------  ----- \n",
            " 0   學年度     764 non-null    int64 \n",
            " 1   學校代碼    764 non-null    int64 \n",
            " 2   學校名稱    764 non-null    object\n",
            " 3   日間∕進修別  764 non-null    object\n",
            " 4   等級別     764 non-null    object\n",
            " 5   總計      764 non-null    int64 \n",
            " 6   男生計     764 non-null    int64 \n",
            " 7   女生計     764 non-null    int64 \n",
            " 8   一年級男    764 non-null    int64 \n",
            " 9   一年級女    764 non-null    int64 \n",
            " 10  二年級男    764 non-null    int64 \n",
            " 11  二年級女    764 non-null    int64 \n",
            " 12  三年級男    764 non-null    int64 \n",
            " 13  三年級女    764 non-null    int64 \n",
            " 14  四年級男    764 non-null    int64 \n",
            " 15  四年級女    764 non-null    int64 \n",
            " 16  五年級男    764 non-null    int64 \n",
            " 17  五年級女    764 non-null    int64 \n",
            " 18  六年級男    764 non-null    int64 \n",
            " 19  六年級女    764 non-null    int64 \n",
            " 20  七年級男    764 non-null    int64 \n",
            " 21  七年級女    764 non-null    int64 \n",
            " 22  延修生男    764 non-null    int64 \n",
            " 23  延修生女    764 non-null    int64 \n",
            " 24  縣市名稱    764 non-null    object\n",
            " 25  體系別     764 non-null    object\n",
            "dtypes: int64(21), object(5)\n",
            "memory usage: 155.3+ KB\n",
            "\n",
            " None\n",
            "\n",
            " 學年度       0\n",
            "學校代碼      0\n",
            "學校名稱      0\n",
            "日間∕進修別    0\n",
            "等級別       0\n",
            "總計        0\n",
            "男生計       0\n",
            "女生計       0\n",
            "一年級男      0\n",
            "一年級女      0\n",
            "二年級男      0\n",
            "二年級女      0\n",
            "三年級男      0\n",
            "三年級女      0\n",
            "四年級男      0\n",
            "四年級女      0\n",
            "五年級男      0\n",
            "五年級女      0\n",
            "六年級男      0\n",
            "六年級女      0\n",
            "七年級男      0\n",
            "七年級女      0\n",
            "延修生男      0\n",
            "延修生女      0\n",
            "縣市名稱      0\n",
            "體系別       0\n",
            "dtype: int64\n",
            "\n",
            "           學年度         學校代碼    學校名稱 日間∕進修別   等級別            總計           男生計  \\\n",
            "count   764.0   764.000000     764    764   764    764.000000    764.000000   \n",
            "unique    NaN          NaN     145      4    10           NaN           NaN   \n",
            "top       NaN          NaN  弘光科技大學    D 日  M 碩士           NaN           NaN   \n",
            "freq      NaN          NaN      10    448   249           NaN           NaN   \n",
            "mean    112.0   756.200262     NaN    NaN   NaN   1433.022251    708.655759   \n",
            "std       0.0   504.152506     NaN    NaN   NaN   2633.932756   1385.170171   \n",
            "min     112.0     1.000000     NaN    NaN   NaN      1.000000      0.000000   \n",
            "25%     112.0    48.000000     NaN    NaN   NaN    103.750000     43.750000   \n",
            "50%     112.0  1029.000000     NaN    NaN   NaN    373.500000    180.000000   \n",
            "75%     112.0  1060.000000     NaN    NaN   NaN   1387.500000    590.500000   \n",
            "max     112.0  3002.000000     NaN    NaN   NaN  19466.000000  10885.000000   \n",
            "\n",
            "                 女生計         一年級男         一年級女  ...        五年級男        五年級女  \\\n",
            "count     764.000000   764.000000   764.000000  ...  764.000000  764.000000   \n",
            "unique           NaN          NaN          NaN  ...         NaN         NaN   \n",
            "top              NaN          NaN          NaN  ...         NaN         NaN   \n",
            "freq             NaN          NaN          NaN  ...         NaN         NaN   \n",
            "mean      724.366492   177.971204   173.545812  ...   11.871728   20.469895   \n",
            "std      1348.848241   349.047086   321.080379  ...   32.233288   81.117153   \n",
            "min         0.000000     0.000000     0.000000  ...    0.000000    0.000000   \n",
            "25%        50.000000     5.000000     4.000000  ...    0.000000    0.000000   \n",
            "50%       166.000000    41.000000    37.000000  ...    0.000000    0.000000   \n",
            "75%       718.500000   161.250000   188.250000  ...    6.000000    6.000000   \n",
            "max     10716.000000  2709.000000  2519.000000  ...  309.000000  897.000000   \n",
            "\n",
            "              六年級男        六年級女        七年級男        七年級女         延修生男  \\\n",
            "count   764.000000  764.000000  764.000000  764.000000   764.000000   \n",
            "unique         NaN         NaN         NaN         NaN          NaN   \n",
            "top            NaN         NaN         NaN         NaN          NaN   \n",
            "freq           NaN         NaN         NaN         NaN          NaN   \n",
            "mean      4.810209    3.615183    2.955497    1.742147    36.647906   \n",
            "std      19.818557   13.204157   17.768959    8.937397    98.370926   \n",
            "min       0.000000    0.000000    0.000000    0.000000     0.000000   \n",
            "25%       0.000000    0.000000    0.000000    0.000000     0.000000   \n",
            "50%       0.000000    0.000000    0.000000    0.000000     0.000000   \n",
            "75%       0.000000    0.000000    0.000000    0.000000    21.000000   \n",
            "max     179.000000  125.000000  312.000000  132.000000  1448.000000   \n",
            "\n",
            "               延修生女    縣市名稱   體系別  \n",
            "count    764.000000     764   764  \n",
            "unique          NaN      24     3  \n",
            "top             NaN  30 臺北市  2 技職  \n",
            "freq            NaN     120   468  \n",
            "mean      27.591623     NaN   NaN  \n",
            "std       74.731977     NaN   NaN  \n",
            "min        0.000000     NaN   NaN  \n",
            "25%        0.000000     NaN   NaN  \n",
            "50%        0.000000     NaN   NaN  \n",
            "75%       18.250000     NaN   NaN  \n",
            "max     1107.000000     NaN   NaN  \n",
            "\n",
            "[11 rows x 26 columns]\n"
          ]
        }
      ]
    },
    {
      "cell_type": "code",
      "source": [
        "import numpy as np\n",
        "np.set_printoptions(precision=None, threshold=None, edgeitems=None, linewidth=None, suppress=None, nanstr=None, infstr=None, formatter=None, sign=None, floatmode=None)  # reset print options\n",
        "np.set_printoptions(linewidth=np.inf, threshold=np.inf)\n",
        "print(df.iloc[0:100,])"
      ],
      "metadata": {
        "colab": {
          "base_uri": "https://localhost:8080/"
        },
        "id": "zBp9i-QeZmeG",
        "outputId": "36f5d58d-0670-43d5-fceb-fb8d4526acc8"
      },
      "execution_count": 13,
      "outputs": [
        {
          "output_type": "stream",
          "name": "stdout",
          "text": [
            "    學年度  學校代碼      學校名稱 日間∕進修別   等級別    總計   男生計   女生計  一年級男  一年級女  ...  五年級男  \\\n",
            "0   112     1    國立政治大學    D 日  D 博士   921   517   404    86    69  ...    63   \n",
            "1   112     1    國立政治大學    D 日  M 碩士  4231  1835  2396   598   809  ...     2   \n",
            "2   112     1    國立政治大學    N 職  M 碩士  1903   938   965   262   304  ...    77   \n",
            "3   112     1    國立政治大學    D 日  B 學士  9763  3928  5835   906  1349  ...     0   \n",
            "4   112     2    國立清華大學    D 日  D 博士  1636  1131   505   206    93  ...   140   \n",
            "..  ...   ...       ...    ...   ...   ...   ...   ...   ...   ...  ...   ...   \n",
            "95  112    25  國立臺北科技大學    D 日  M 碩士  3558  2535  1023  1060   402  ...     0   \n",
            "96  112    25  國立臺北科技大學    N 職  M 碩士  1604  1110   494   339   172  ...    34   \n",
            "97  112    25  國立臺北科技大學    D 日  B 四技  6371  4444  1927  1079   499  ...     0   \n",
            "98  112    25  國立臺北科技大學    N 修  B 四技  1197   984   213   161    38  ...     0   \n",
            "99  112    25  國立臺北科技大學    D 日  C 二技    22    13     9     0     0  ...     0   \n",
            "\n",
            "    五年級女  六年級男  六年級女  七年級男  七年級女  延修生男  延修生女    縣市名稱   體系別  \n",
            "0     52    68    37    66    50     0     0  30 臺北市  1 一般  \n",
            "1      1     1     0     0     0     0     0  30 臺北市  1 一般  \n",
            "2     57     0     0     0     0     0     0  30 臺北市  1 一般  \n",
            "3      0     0     0     0     0   316   499  30 臺北市  1 一般  \n",
            "4     60   110    50   115    56     0     0  18 新竹市  1 一般  \n",
            "..   ...   ...   ...   ...   ...   ...   ...     ...   ...  \n",
            "95     0     0     0     0     0     0     0  30 臺北市  2 技職  \n",
            "96    15    34    11     2     0     0     0  30 臺北市  2 技職  \n",
            "97     0     0     0     0     0   181    89  30 臺北市  2 技職  \n",
            "98     0     0     0     0     0    54    14  30 臺北市  2 技職  \n",
            "99     0     0     0     0     0     5     2  30 臺北市  2 技職  \n",
            "\n",
            "[100 rows x 26 columns]\n"
          ]
        }
      ]
    },
    {
      "cell_type": "markdown",
      "source": [
        "# 1.哪間大專院校有最多的學士生\n",
        "\n",
        "step1: 取出想要查看的欄位，並印出此資料集共有多少筆紀錄 (len)\n",
        "\n",
        "step2: 篩選等級別為\"B 學士\"的DataFrame，並印出有招生博士學制的學校數量\n",
        "\n",
        "step3: 依據\"總計\"從大到小排序並印出結果 (sort_values, by, ascending)"
      ],
      "metadata": {
        "id": "bX5p1tgOSu1i"
      }
    },
    {
      "cell_type": "code",
      "source": [
        "df1 = df[['學年度', '學校代碼', '學校名稱', '等級別', '總計', '男生計', '女生計']] # 取出想要觀看的欄位\n",
        "print(\"本資料集共有\", len(df1), \"筆紀錄\")\n",
        "df1_1 = df1[df1['等級別'] == 'B 學士']\n",
        "print(\"有招生學士學制的學校數量為\", len(df1_1), \"\\n\")\n",
        "df1_1_sorted = df1_1.sort_values(by='總計', ascending=False)\n",
        "print(\"112學年度在籍的學士生最多人數第1名為\", df1_1_sorted.head(1)[\"學校名稱\"].values)"
      ],
      "metadata": {
        "colab": {
          "base_uri": "https://localhost:8080/"
        },
        "id": "D9AfvfU-Szu7",
        "outputId": "6fa89668-e345-450a-ba83-4c3bfe5ac57f"
      },
      "execution_count": 14,
      "outputs": [
        {
          "output_type": "stream",
          "name": "stdout",
          "text": [
            "本資料集共有 764 筆紀錄\n",
            "有招生學士學制的學校數量為 97 \n",
            "\n",
            "112學年度在籍的學士生最多人數第1名為 ['淡江大學']\n"
          ]
        }
      ]
    },
    {
      "cell_type": "markdown",
      "source": [
        "# 2. 國立？所；私立？所\n",
        "\n",
        "step1: 建立空字串 (lsit=[])\n",
        "\n",
        "step2: 建立for迴圈，配合if else條件，取出國立與私立\n",
        "\n",
        "step3: 新增「公私立」column在DataFrame中 (df['公私立'])\n",
        "\n",
        "step4: 篩選掉重複的學校代碼資料 (drop_duplicates)\n",
        "\n",
        "step5: 計算公立與私立學校的筆數，並印出結果 (value_counts"
      ],
      "metadata": {
        "id": "IzqRi2WyRZFh"
      }
    },
    {
      "cell_type": "code",
      "source": [
        "type_list = []\n",
        "for i in df['學校名稱']:\n",
        "    if ('國立' in i) or ('市立' in i):\n",
        "        type_list.append('國立')\n",
        "    else:\n",
        "        type_list.append('私立')\n",
        "df['公私立'] = type_list\n",
        "df2 = df.drop_duplicates('學校代碼')\n",
        "count = df2['公私立'].value_counts()\n",
        "print(f\"本資料集共收集了 {len(df2)} 所學校，其中公立：{count['國立']} 所；私立：{count['私立']} 所。\")"
      ],
      "metadata": {
        "colab": {
          "base_uri": "https://localhost:8080/"
        },
        "id": "eMbiigpnRbdl",
        "outputId": "4bce4357-246f-475c-881d-36b2c01eb374"
      },
      "execution_count": 17,
      "outputs": [
        {
          "output_type": "stream",
          "name": "stdout",
          "text": [
            "本資料集共收集了 145 所學校，其中公立：47 所；私立：98 所。\n"
          ]
        }
      ]
    },
    {
      "cell_type": "markdown",
      "source": [
        "# 3. 各等級別學制共有？所\n",
        "\n",
        "step1: 篩選掉重複的學校名稱與等級別 (drop_duplicates, subset)\n",
        "\n",
        "step2: 計算出等級別的筆數 (value_counts)\n",
        "\n",
        "step3: 建立等級別的字串，並找出其類別 (unique)\n",
        "\n",
        "step4: 使用for迴圈，依序列出所有等級別學制的學校數量 (count)"
      ],
      "metadata": {
        "id": "Fg_f-NzNSKiU"
      }
    },
    {
      "cell_type": "code",
      "source": [
        "df3 = df.drop_duplicates(subset=['學校名稱', '等級別'])\n",
        "count = df3['等級別'].value_counts()\n",
        "degree_list = list(df['等級別'].unique())\n",
        "print(f\"本資料集總共收集了 {len(set(df['學校代碼']))} 所學校，各等級學制當中：\")\n",
        "for degree in degree_list:\n",
        "    print(f\"一共有{count[degree]} 所學校， 有招收{degree[2:]}。\")"
      ],
      "metadata": {
        "colab": {
          "base_uri": "https://localhost:8080/"
        },
        "id": "FuhQKQqRSLOc",
        "outputId": "6af61f1f-0597-4b07-b143-9815c148a635"
      },
      "execution_count": 7,
      "outputs": [
        {
          "output_type": "stream",
          "name": "stdout",
          "text": [
            "本資料集總共收集了 145 所學校，各等級學制當中：\n",
            "一共有84 所學校， 有招收博士。\n",
            "一共有130 所學校， 有招收碩士。\n",
            "一共有67 所學校， 有招收學士。\n",
            "一共有1 所學校， 有招收4+X。\n",
            "一共有71 所學校， 有招收二技。\n",
            "一共有66 所學校， 有招收四技。\n",
            "一共有46 所學校， 有招收五專。\n",
            "一共有2 所學校， 有招收七年。\n",
            "一共有46 所學校， 有招收二專。\n",
            "一共有1 所學校， 有招收二年制。\n"
          ]
        }
      ]
    },
    {
      "cell_type": "markdown",
      "source": [
        "# 4. 各縣市分別有多少所學校，位於台北市的大專院校總共有幾所"
      ],
      "metadata": {
        "id": "wKevo1U1TOn2"
      }
    },
    {
      "cell_type": "code",
      "source": [
        "city_list = []\n",
        "for i in df['縣市名稱']:\n",
        "   city_list.append(i[3:])\n",
        "df['縣市名'] = city_list\n",
        "df4 = df.drop_duplicates('學校代碼')\n",
        "count = df4['縣市名'].value_counts()\n",
        "city_list = df4['縣市名'].unique()\n",
        "print(f\"本資料集共收集了 {len(df4)} 學校，其中：\")\n",
        "for city in city_list:\n",
        "    print(f\"{city}有 {count[city]} 所\")\n",
        "newtaipei = df4[df4['縣市名'] == '臺北市']\n",
        "print('\\n')\n",
        "print(newtaipei['縣市名'].value_counts())"
      ],
      "metadata": {
        "colab": {
          "base_uri": "https://localhost:8080/"
        },
        "id": "kTfp6k2ATPPI",
        "outputId": "369eda24-c21d-4f23-9a30-44a9f44bd32f"
      },
      "execution_count": 8,
      "outputs": [
        {
          "output_type": "stream",
          "name": "stdout",
          "text": [
            "本資料集共收集了 145 學校，其中：\n",
            "臺北市有 24 所\n",
            "新竹市有 5 所\n",
            "臺南市有 13 所\n",
            "臺中市有 17 所\n",
            "桃園市有 12 所\n",
            "高雄市有 15 所\n",
            "基隆市有 3 所\n",
            "嘉義縣有 4 所\n",
            "彰化縣有 4 所\n",
            "新北市有 20 所\n",
            "嘉義市有 2 所\n",
            "花蓮縣有 4 所\n",
            "南投縣有 2 所\n",
            "雲林縣有 3 所\n",
            "屏東縣有 5 所\n",
            "臺東縣有 2 所\n",
            "宜蘭縣有 3 所\n",
            "苗栗縣有 3 所\n",
            "澎湖縣有 1 所\n",
            "金門縣有 1 所\n",
            "新竹縣有 2 所\n",
            "\n",
            "\n",
            "臺北市    24\n",
            "Name: 縣市名, dtype: int64\n"
          ]
        }
      ]
    },
    {
      "cell_type": "markdown",
      "source": [
        "# 5. 各體系別分別有多少所學校？"
      ],
      "metadata": {
        "id": "7WkoovplBeaz"
      }
    },
    {
      "cell_type": "code",
      "source": [
        "df6 = df.drop_duplicates('學校代碼')\n",
        "count = df6['體系別'].value_counts()\n",
        "print(f\"共有 {len(df6)} 所學校，技職 {count['2 技職']} 所；一般 {count['1 一般']} 所；師範 {count['3 師範']} 所。\")"
      ],
      "metadata": {
        "colab": {
          "base_uri": "https://localhost:8080/"
        },
        "id": "JKMhMFVMBiBF",
        "outputId": "33bfc6cb-1dfa-46e4-ed26-023990b39195"
      },
      "execution_count": 9,
      "outputs": [
        {
          "output_type": "stream",
          "name": "stdout",
          "text": [
            "共有 145 所學校，技職 78 所；一般 62 所；師範 5 所。\n"
          ]
        }
      ]
    },
    {
      "cell_type": "markdown",
      "source": [
        " # 6. 每校平均最多與最少人的體系？"
      ],
      "metadata": {
        "id": "zWIyQ01LXGo_"
      }
    },
    {
      "cell_type": "code",
      "source": [
        "df8 = df.drop_duplicates('學校代碼')\n",
        "system_count = df8['體系別'].value_counts()\n",
        "system_list = list(df['體系別'].unique())\n",
        "count_student = 0\n",
        "result_dict = {}\n",
        "for system in system_list:\n",
        "    for i in range(len(df)):\n",
        "        if df.loc[i,'體系別'] == system:\n",
        "            count_student += int(df.loc[i, '總計'])\n",
        "    result_dict[system[2:]] = count_student/system_count[system]\n",
        "    count_student = 0\n",
        "max_value = max(result_dict.values())\n",
        "min_value = min(result_dict.values())\n",
        "max_key = next(key for key, value in result_dict.items() if value == max_value)\n",
        "min_key = next(key for key, value in result_dict.items() if value == min_value)\n",
        "print(f\"每校平均最多人是 {max_key}，平均每校 {round(max_value,2)} 人；\")\n",
        "print(f\"每校平均最少人是 {min_key}，平均每校 {round(min_value,2)} 人。\")"
      ],
      "metadata": {
        "colab": {
          "base_uri": "https://localhost:8080/"
        },
        "id": "uSHT2gbiXIW8",
        "outputId": "e419c28e-e383-4394-f21f-ed7b354387e5"
      },
      "execution_count": 10,
      "outputs": [
        {
          "output_type": "stream",
          "name": "stdout",
          "text": [
            "每校平均最多人是 一般，平均每校 9224.89 人；\n",
            "每校平均最少人是 技職，平均每校 6143.56 人。\n"
          ]
        }
      ]
    },
    {
      "cell_type": "code",
      "source": [
        "# 目的是建立一個多層字典結構，用於儲存每所學校的在學生和延修生的男女生數量，然後統計每所學校的男女生數量並更新字典。\n",
        "\n",
        "# Line35說明，count = {}\n",
        "# 建立一個空字典，將用於儲存學校的在學生和延修生的男女生數量。\n",
        "\n",
        "# Line37說明，def create_count_dict(df, count):\n",
        "# 定義一個函數 create_count_dict，該函數的目的是建立多層字典結構，用於儲存每所學校的男女生數量。\n",
        "\n",
        "# Line38說明，df7 = df.drop_duplicates('學校代碼')\n",
        "# 使用 drop_duplicates() 函數根據 '學校代碼' 列刪除重複的行，並將結果儲存在 DataFrame df7 中。確保每個學校代碼僅出現一次。\n",
        "\n",
        "# Line39說明，for i in df7['學校名稱']:\n",
        "# 拜訪 df7['學校名稱'] 中的每個學校名稱。\n",
        "\n",
        "# Line40說明，count[i] = {}\n",
        "# 將學校名稱作為鍵(key)，建立一個新的空字典作為值(value)，以儲存該學校的男女生數量。\n",
        "\n",
        "# Line41，44說明，count[i]['在學生'] = {}、count[i]['延修生'] = {}\n",
        "# 在新建的學校字典中，建立兩個子字典，用於分別儲存在學生和延修生的男女生數量。\n",
        "\n",
        "# Line42-43，45-46說明，count[i]['在學生']['男生數'] = 0、count[i]['在學生']['女生數'] = 0、count[i]['延修生']['男生數'] = 0、count[i]['延修生']['女生數'] = 0\n",
        "# 初始化每所學校的男女生數量為0。\n",
        "\n",
        "# Line49說明，def count_every_schools_data(df):\n",
        "# 定義一個函數 count_every_schools_data，用於統計每所學校的男女生數量並更新字典。\n",
        "\n",
        "# Line50說明，for j in range(len(df)):\n",
        "# 使用 range(len(df)) 拜訪 DataFrame df 中的每一行。\n",
        "\n",
        "# Line51-54說明，count[df.iloc[j,2]]['在學生']['男生數'] += ...、count[df.iloc[j,2]]['在學生']['女生數'] += ...、count[df.iloc[j,2]]['延修生']['男生數'] += ...、count[df.iloc[j,2]]['延修生']['女生數'] += ...\n",
        "# 這些行根據每一行的數據更新對應學校的男女生數量。\n",
        "# 例如，df.iloc[j,2] 是該行的學校名稱，count[df.iloc[j,2]] 取得該學校的字典，然後根據該行的男女生數量更新在學生和延修生的男女生數量。\n",
        "\n",
        "\n",
        "count = {}\n",
        "\n",
        "def create_count_dict(df, count): # 建立多層 dict 結構來儲存各校在學與延修生的男女生數\n",
        "    df7 = df.drop_duplicates('學校代碼')\n",
        "    for i in df7['學校名稱']:\n",
        "        count[i] = {}\n",
        "        count[i]['在學生'] = {}\n",
        "        count[i]['在學生']['男生數'] = 0\n",
        "        count[i]['在學生']['女生數'] = 0\n",
        "        count[i]['延修生'] = {}\n",
        "        count[i]['延修生']['男生數'] = 0\n",
        "        count[i]['延修生']['女生數'] = 0\n",
        "\n",
        "\n",
        "def count_every_schools_data(df):\n",
        "    for j in range(len(df)):\n",
        "        count[df.iloc[j,2]]['在學生']['男生數'] += (int(df.iloc[j,8]) + int(df.iloc[j,10]) + int(df.iloc[j,12]) + int(df.iloc[j,14]) + int(df.iloc[j,16]) + int(df.iloc[j,18]) + int(df.iloc[j,20]))\n",
        "        count[df.iloc[j,2]]['在學生']['女生數'] += (int(df.iloc[j,9]) + int(df.iloc[j,11]) + int(df.iloc[j,13]) + int(df.iloc[j,15]) + int(df.iloc[j,17]) + int(df.iloc[j,19]) + int(df.iloc[j,21]))\n",
        "        count[df.iloc[j,2]]['延修生']['男生數'] += int(df.iloc[j,22])\n",
        "        count[df.iloc[j,2]]['延修生']['女生數'] += int(df.iloc[j,23])\n",
        "\n",
        "create_count_dict(df, count) # 執行Line37定義的Function\n",
        "count_every_schools_data(df) # 執行Line49定義的Function\n",
        "\n",
        "# 目的是根據公私立屬性，分別計算國立與私立大學在學生和延修生的男女比例，然後列印出來。\n",
        "\n",
        "# Line35-36說明，public_current_male = 0 和 public_current_female = 0\n",
        "# 定義兩個變量 public_current_male 和 public_current_female，分別用於儲存男女生數量的加總，初始值為0。\n",
        "\n",
        "# Line38說明，df7_1 = df.drop_duplicates('學校代碼', ignore_index=True)\n",
        "# 使用 drop_duplicates() 函數根據 '學校代碼' 列刪除重複的行，並將結果存儲在 DataFrame df7_1 中。 ignore_index=True 會重新編制索引，以便在後續循環中可以正確地訪問行。\n",
        "\n",
        "# Line39說明，for i in range(len(df7_1)):\n",
        "# 通過迴圈拜訪 DataFrame df7_1 中的每一行。\n",
        "\n",
        "# Line40說明，if df7_1.loc[i,'公私立'] == '國立':\n",
        "# 檢查每所學校的公私立屬性是否為國立。\n",
        "\n",
        "# Line41-42說明，public_current_male += count[df7_1.loc[i,'學校名稱']]['在學生']['男生數'] 和 public_current_female += count[df7_1.loc[i,'學校名稱']]['在學生']['女生數']\n",
        "# 將符合條件的國立大學的在學生男女生數量加入到 public_current_male 和 public_current_female 中。\n",
        "\n",
        "# Line44說明，ratio = public_current_male/public_current_female*100\n",
        "# 計算男女比例，將男生數除以女生數，並乘以100獲得百分比。\n",
        "\n",
        "# Line45說明，print(f'國立大學在學生男女比：{ratio} ≑ {round(ratio,2)}')\n",
        "# 使用 f-string 格式化輸出，印出國立大學在學生的男女比例，並使用 round() 函數四捨五入至小數點後兩位。\n",
        "\n",
        "# Line47，56，65說明，df7_2 = df.drop_duplicates('學校代碼', ignore_index=True)、df7_3 = df.drop_duplicates('學校代碼', ignore_index=True) 和 df7_4 = df.drop_duplicates('學校代碼', ignore_index=True)\n",
        "# 這三行與上述第一行類似，分別建立了三個新的 DataFrame，用於下面的私立大學在學生男女比例和國立、私立大學延修生男女比例的計算。\n",
        "\n",
        "# Line49，58，67說明，if df7_2.loc[i,'公私立'] == '私立':、if df7_3.loc[i,'公私立'] == '國立': 和 if df7_4.loc[i,'公私立'] == '私立':\n",
        "# 這三行用於檢查每所學校的公私立屬性是否分別為私立和國立。\n",
        "\n",
        "# Line53-54說明，ratio = public_current_male/public_current_female*100 和 print(f'私立大學在學生男女比：{ratio} ≑ {round(ratio,2)}')\n",
        "# 這兩行用於計算私立大學在學生的男女比例，並列印出來，與前面的國立大學類似。\n",
        "\n",
        "\n",
        "\n",
        "public_current_male = 0\n",
        "public_current_female = 0\n",
        "\n",
        "df7_1 = df.drop_duplicates('學校代碼', ignore_index=True)\n",
        "for i in range(len(df7_1)):\n",
        "    if df7_1.loc[i,'公私立'] == '國立':\n",
        "        public_current_male += count[df7_1.loc[i,'學校名稱']]['在學生']['男生數']\n",
        "        public_current_female += count[df7_1.loc[i,'學校名稱']]['在學生']['女生數']\n",
        "\n",
        "ratio = public_current_male/public_current_female*100 # 男女比計算公式\n",
        "print(f'國立大學在學生男女比：{ratio} ≑ {round(ratio,2)}') # 四捨五入至小數點後兩位\n",
        "\n",
        "df7_2 = df.drop_duplicates('學校代碼', ignore_index=True)\n",
        "for i in range(len(df7_2)):\n",
        "    if df7_2.loc[i,'公私立'] == '私立':\n",
        "        public_current_male += count[df7_1.loc[i,'學校名稱']]['在學生']['男生數']\n",
        "        public_current_female += count[df7_1.loc[i,'學校名稱']]['在學生']['女生數']\n",
        "\n",
        "ratio = public_current_male/public_current_female*100 # 男女比計算公式\n",
        "print(f'私立大學在學生男女比：{ratio} ≑ {round(ratio,2)}') # 四捨五入至小數點後兩位\n",
        "\n",
        "df7_3 = df.drop_duplicates('學校代碼', ignore_index=True)\n",
        "for i in range(len(df7_3)):\n",
        "    if df7_3.loc[i,'公私立'] == '國立':\n",
        "        public_current_male += count[df7_1.loc[i,'學校名稱']]['延修生']['男生數']\n",
        "        public_current_female += count[df7_1.loc[i,'學校名稱']]['延修生']['女生數']\n",
        "\n",
        "ratio = public_current_male/public_current_female*100 # 男女比計算公式\n",
        "print(f'國立大學延修生男女比：{ratio} ≑ {round(ratio,2)}') # 四捨五入至小數點後兩位\n",
        "\n",
        "df7_4 = df.drop_duplicates('學校代碼', ignore_index=True)\n",
        "for i in range(len(df7_4)):\n",
        "    if df7_4.loc[i,'公私立'] == '私立':\n",
        "        public_current_male += count[df7_1.loc[i,'學校名稱']]['延修生']['男生數']\n",
        "        public_current_female += count[df7_1.loc[i,'學校名稱']]['延修生']['女生數']\n",
        "\n",
        "ratio = public_current_male/public_current_female*100 # 男女比計算公式\n",
        "print(f'私立大學延修生男女比：{ratio} ≑ {round(ratio,2)}') # 四捨五入至小數點後兩位\n"
      ],
      "metadata": {
        "colab": {
          "base_uri": "https://localhost:8080/"
        },
        "id": "LjOAMmzDk3vx",
        "outputId": "5199873c-19d9-4734-a92e-f5212948e4de"
      },
      "execution_count": 18,
      "outputs": [
        {
          "output_type": "stream",
          "name": "stdout",
          "text": [
            "國立大學在學生男女比：119.10964038427396 ≑ 119.11\n",
            "私立大學在學生男女比：96.44547804394217 ≑ 96.45\n",
            "國立大學延修生男女比：96.9910906275184 ≑ 96.99\n",
            "私立大學延修生男女比：97.83110715989419 ≑ 97.83\n"
          ]
        }
      ]
    },
    {
      "cell_type": "code",
      "source": [
        "df.head(2)\n",
        "df.to_csv('112_students_tf.csv', encoding='utf-8', sep=',')"
      ],
      "metadata": {
        "id": "iVm9xkn5lr0T"
      },
      "execution_count": 20,
      "outputs": []
    }
  ]
}